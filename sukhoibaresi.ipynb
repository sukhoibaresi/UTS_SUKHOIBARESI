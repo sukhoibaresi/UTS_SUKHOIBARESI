{
 "cells": [
  {
   "cell_type": "code",
   "execution_count": 1,
   "metadata": {},
   "outputs": [],
   "source": [
    "# Data\n",
    "\n",
    "company_detail_list = [\n",
    "      {\n",
    "          'name': 'Company 1',\n",
    "          'domain': 'Retail',\n",
    "          'country': 'United States'\n",
    "      },\n",
    "      {\n",
    "          'name': 'Company 2',\n",
    "          'domain': 'Technology',\n",
    "          'country': 'United Kingdom'\n",
    "      },\n",
    "      {\n",
    "          'name': 'Company 3',\n",
    "          'domain': 'Healthcare',\n",
    "          'country': 'United States'\n",
    "      }\n",
    "  ]\n",
    "\n",
    "employee_detail_list = [\n",
    "     {\n",
    "          'name': 'EMP-0001',\n",
    "          'first_name': 'John',\n",
    "          'last_name': 'Doe',\n",
    "          'full_name': 'John Doe',\n",
    "          'company': 'Company 1',\n",
    "          'nationality': 'Australia'\n",
    "      },\n",
    "      {\n",
    "          'name': 'EMP-0002',\n",
    "          'first_name': 'Tom',\n",
    "          'last_name': 'Smith',\n",
    "          'full_name': 'Tom Smith',\n",
    "          'company': 'Company 2',\n",
    "          'nationality': 'United States'\n",
    "      },\n",
    "      {\n",
    "          'name': 'EMP-0003',\n",
    "          'first_name': 'Andrew',\n",
    "          'last_name': 'Sebastian',\n",
    "          'full_name': 'Andrew Sebastian',\n",
    "          'company': 'Company 3',\n",
    "          'nationality': 'United States'\n",
    "      },\n",
    "      {\n",
    "          'name': 'EMP-0005',\n",
    "          'first_name': 'Ying Han',\n",
    "          'last_name': 'Tan',\n",
    "          'full_name': 'Ying Han Tan',\n",
    "          'company': 'Company 1',\n",
    "          'nationality': 'Australia'\n",
    "      },\n",
    "      {\n",
    "          'name': 'EMP-0015',\n",
    "          'first_name': 'Kenneth',\n",
    "          'last_name': 'Ng',\n",
    "          'full_name': 'Kenneth Ng',\n",
    "          'company': 'Company 3',\n",
    "          'nationality': 'United States'\n",
    "      },\n",
    "      {\n",
    "          'name': 'EMP-0018',\n",
    "          'first_name': 'Rubby',\n",
    "          'last_name': 'Lee',\n",
    "          'full_name': 'Rubby Lee',\n",
    "          'company': 'Company 2',\n",
    "          'nationality': 'Hong Kong'\n",
    "      },\n",
    "     {\n",
    "          'name': 'EMP-0017',\n",
    "          'first_name': 'Robert',\n",
    "          'last_name': 'White',\n",
    "          'full_name': 'Robert White',\n",
    "          'company': 'Company 1',\n",
    "          'nationality': 'United Kingdom'\n",
    "      }\n",
    "  ]"
   ]
  },
  {
   "cell_type": "code",
   "execution_count": 3,
   "metadata": {},
   "outputs": [
    {
     "name": "stdout",
     "output_type": "stream",
     "text": [
      "[{'name': 'Company 3'}, {'name': 'Company 2'}, {'name': 'Company 1'}]\n"
     ]
    }
   ],
   "source": [
    "# Task 1\n",
    "sorted_companies = sorted(company_detail_list, key=lambda x: x['name'], reverse=True)\n",
    "result_task_1 = [{\"name\": company[\"name\"]} for company in sorted_companies]\n",
    "\n",
    "print(result_task_1)\n"
   ]
  },
  {
   "cell_type": "code",
   "execution_count": 4,
   "metadata": {},
   "outputs": [
    {
     "name": "stdout",
     "output_type": "stream",
     "text": [
      "Company 1: Retail (United States)\n",
      "Company 2: Technology (United Kingdom)\n",
      "Company 3: Healthcare (United States)\n"
     ]
    }
   ],
   "source": [
    "# Task 2\n",
    "for company in company_detail_list:\n",
    "    print(f\"{company['name']}: {company['domain']} ({company['country']})\")\n"
   ]
  },
  {
   "cell_type": "code",
   "execution_count": 6,
   "metadata": {},
   "outputs": [
    {
     "name": "stdout",
     "output_type": "stream",
     "text": [
      "{'Retail': ['John Doe', 'Ying Han Tan', 'Robert White'], 'Technology': ['Tom Smith', 'Rubby Lee'], 'Healthcare': ['Andrew Sebastian', 'Kenneth Ng']}\n"
     ]
    }
   ],
   "source": [
    "# Task 3\n",
    "domain_dict = {company['name']: company['domain'] for company in company_detail_list}\n",
    "\n",
    "\n",
    "employees_by_domain = {}\n",
    "for employee in employee_detail_list:\n",
    "    domain = domain_dict[employee['company']]\n",
    "    if domain not in employees_by_domain:\n",
    "        employees_by_domain[domain] = []\n",
    "    employees_by_domain[domain].append(employee['full_name'])\n",
    "\n",
    "print(employees_by_domain)\n"
   ]
  },
  {
   "cell_type": "code",
   "execution_count": 8,
   "metadata": {},
   "outputs": [
    {
     "name": "stdout",
     "output_type": "stream",
     "text": [
      "[{'full_name': 'John Doe', 'company': 'Company 1', 'country': 'United States'}, {'full_name': 'Tom Smith', 'company': 'Company 2', 'country': 'United Kingdom'}, {'full_name': 'Andrew Sebastian', 'company': 'Company 3', 'country': 'United States'}, {'full_name': 'Ying Han Tan', 'company': 'Company 1', 'country': 'United States'}, {'full_name': 'Kenneth Ng', 'company': 'Company 3', 'country': 'United States'}, {'full_name': 'Rubby Lee', 'company': 'Company 2', 'country': 'United Kingdom'}, {'full_name': 'Robert White', 'company': 'Company 1', 'country': 'United States'}]\n"
     ]
    }
   ],
   "source": [
    "# Task 4\n",
    "def employees_with_company_country():\n",
    "    country_dict = {company['name']: company['country'] for company in company_detail_list}\n",
    "\n",
    "    result = []\n",
    "    for employee in employee_detail_list:\n",
    "        result.append({\n",
    "            \"full_name\": employee[\"full_name\"],\n",
    "            \"company\": employee[\"company\"],\n",
    "            \"country\": country_dict[employee[\"company\"]]\n",
    "        })\n",
    "    return result\n",
    "\n",
    "# Cetak hasil Task 4\n",
    "print(employees_with_company_country())\n"
   ]
  },
  {
   "cell_type": "code",
   "execution_count": 9,
   "metadata": {},
   "outputs": [
    {
     "name": "stdout",
     "output_type": "stream",
     "text": [
      "[{'company': 'Company 1', 'employee_nationality': {'Australia': 2, 'United Kingdom': 1}}, {'company': 'Company 2', 'employee_nationality': {'United States': 1, 'Hong Kong': 1}}, {'company': 'Company 3', 'employee_nationality': {'United States': 2}}]\n"
     ]
    }
   ],
   "source": [
    "# Task 5\n",
    "def company_employee_nationality_count():\n",
    "    result = []\n",
    "\n",
    "    for company in company_detail_list:\n",
    "        employee_nationalities = {}\n",
    "        for employee in employee_detail_list:\n",
    "            if employee[\"company\"] == company[\"name\"]:\n",
    "                nationality = employee[\"nationality\"]\n",
    "                if nationality in employee_nationalities:\n",
    "                    employee_nationalities[nationality] += 1\n",
    "                else:\n",
    "                    employee_nationalities[nationality] = 1\n",
    "\n",
    "        result.append({\n",
    "            \"company\": company[\"name\"],\n",
    "            \"employee_nationality\": employee_nationalities\n",
    "        })\n",
    "\n",
    "    return result\n",
    "\n",
    "print(company_employee_nationality_count())\n"
   ]
  }
 ],
 "metadata": {
  "kernelspec": {
   "display_name": "base",
   "language": "python",
   "name": "python3"
  },
  "language_info": {
   "codemirror_mode": {
    "name": "ipython",
    "version": 3
   },
   "file_extension": ".py",
   "mimetype": "text/x-python",
   "name": "python",
   "nbconvert_exporter": "python",
   "pygments_lexer": "ipython3",
   "version": "3.9.16"
  }
 },
 "nbformat": 4,
 "nbformat_minor": 2
}
